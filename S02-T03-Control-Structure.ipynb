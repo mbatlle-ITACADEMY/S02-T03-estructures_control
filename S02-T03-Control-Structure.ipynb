{
 "cells": [
  {
   "cell_type": "markdown",
   "metadata": {},
   "source": [
    "# S02-T03: Control Structure\n",
    "We are beginning to become familiar with Python's control structures\n",
    "\n",
    "## Goals:\n",
    "* conditional and loops\n",
    "* if / else / elif\n",
    "* Functions"
   ]
  },
  {
   "cell_type": "markdown",
   "metadata": {},
   "source": [
    "## Exercise 1\n",
    "The exercise involves creating a program that rates you a numeric variable based on the Suspended / Passed / Notable / Excellent scale."
   ]
  },
  {
   "cell_type": "code",
   "execution_count": 22,
   "metadata": {},
   "outputs": [
    {
     "name": "stdout",
     "output_type": "stream",
     "text": [
      "your grade is 7, a notable.\n"
     ]
    }
   ],
   "source": [
    "grade = int(input(\"Enter your grade\"))\n",
    "if grade >= 9:\n",
    "    print(f'your grade is {grade}, an excellent.')\n",
    "elif grade >= 7 and grade < 9:\n",
    "    print(f'your grade is {grade}, a notable.')\n",
    "elif grade >= 5 and grade < 7:\n",
    "    print(f'your grade is {grade},a passed.')\n",
    "elif grade < 5:\n",
    "    print(f'your grade is {grade}, a suspended.')"
   ]
  },
  {
   "cell_type": "markdown",
   "metadata": {},
   "source": [
    "## Exercise 2\n",
    "Using the following *Programiz tutorial: Python Input, Output and Import*: https://www.programiz.com/python-programming/input-output-import,  create a program that asks you two numbers. It should show you a message saying if the first one is bigger, the second one is bigger or the same."
   ]
  },
  {
   "cell_type": "code",
   "execution_count": 23,
   "metadata": {},
   "outputs": [
    {
     "name": "stdout",
     "output_type": "stream",
     "text": [
      "7 is bigger than 4\n"
     ]
    }
   ],
   "source": [
    "num1 = int(input(\"Enter the first number\"))\n",
    "num2 = int(input(\"Enter the second number\"))\n",
    "if num1 > num2:\n",
    "    print(f'{num1} is bigger than {num2}')\n",
    "elif num2 > num1:\n",
    "    print(f'{num2} is bigger than {num1}')\n",
    "else:\n",
    "    print(f'{num2} and {num1} are the same')"
   ]
  },
  {
   "cell_type": "markdown",
   "metadata": {},
   "source": [
    "## Exercice 3\n",
    "Create a program that asks for your name, and asks for a number. If the number is 0, it should display an error message. Otherwise, it should show the repeated name as many times as the number indicates. For example, “Joan Joan Joan”."
   ]
  },
  {
   "cell_type": "code",
   "execution_count": 62,
   "metadata": {},
   "outputs": [
    {
     "name": "stdout",
     "output_type": "stream",
     "text": [
      "Mar Mar Mar Mar Mar \n"
     ]
    }
   ],
   "source": [
    "name = input(\"Enter your name\")\n",
    "num = int(input(\"Enter a number\"))\n",
    "print((name + ' ')*num)"
   ]
  },
  {
   "cell_type": "markdown",
   "metadata": {},
   "source": [
    "## Exercise 4\n",
    "Create a program that, given any list, tells you if it is symmetrical or not. If so, let me tell you how many items it has."
   ]
  },
  {
   "cell_type": "code",
   "execution_count": 47,
   "metadata": {},
   "outputs": [
    {
     "name": "stdout",
     "output_type": "stream",
     "text": [
      "the list ([8, 1, 9]) is not symmetrical, and it has 3 elements.\n"
     ]
    }
   ],
   "source": [
    "# palindrom list\n",
    "import random\n",
    "n_list = random.sample(range(0,10),3)\n",
    "if n_list == n_list[::-1]:\n",
    "    print(f'the list ({n_list}) is symmetrical, and it has {len(n_list)} elements.')\n",
    "else:\n",
    "    print(f'the list ({n_list}) is not symmetrical, and it has {len(n_list)} elements.')"
   ]
  },
  {
   "cell_type": "markdown",
   "metadata": {},
   "source": [
    "## Exercise 5\n",
    "Create a program that, given a list, tells you how many numbers match your position. For example [3,4,2,0,2,3,6] 2 and 6 coincide."
   ]
  },
  {
   "cell_type": "code",
   "execution_count": 61,
   "metadata": {},
   "outputs": [
    {
     "name": "stdout",
     "output_type": "stream",
     "text": [
      "Given [2, 9, 5, 3, 0, 7, 8, 4, 1, 6], the elements [3] match their position with their value.\n"
     ]
    }
   ],
   "source": [
    "n_list = random.sample(range(0,10),10)\n",
    "matches = []\n",
    "for i in range(len(n_list)):\n",
    "    if i == n_list[i]:\n",
    "        matches.append(i)\n",
    "if len(matches) > 0:\n",
    "    print(f'Given {n_list}, the elements {matches} match their position with their value.')\n",
    "else:\n",
    "    print(f'Given {n_list}, none elements match their position with their value.')"
   ]
  }
 ],
 "metadata": {
  "interpreter": {
   "hash": "f9f85f796d01129d0dd105a088854619f454435301f6ffec2fea96ecbd9be4ac"
  },
  "kernelspec": {
   "display_name": "Python 3.9.9 64-bit",
   "language": "python",
   "name": "python3"
  },
  "language_info": {
   "codemirror_mode": {
    "name": "ipython",
    "version": 3
   },
   "file_extension": ".py",
   "mimetype": "text/x-python",
   "name": "python",
   "nbconvert_exporter": "python",
   "pygments_lexer": "ipython3",
   "version": "3.10.0"
  },
  "orig_nbformat": 4
 },
 "nbformat": 4,
 "nbformat_minor": 2
}
